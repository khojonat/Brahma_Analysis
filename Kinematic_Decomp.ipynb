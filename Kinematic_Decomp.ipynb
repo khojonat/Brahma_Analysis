{
 "cells": [
  {
   "cell_type": "markdown",
   "id": "efd98e35-711e-4250-9e5d-acb809b39514",
   "metadata": {},
   "source": [
    "# Redoing $\\sigma$ calculation for only the stars in the bulge"
   ]
  },
  {
   "cell_type": "code",
   "execution_count": 1,
   "id": "4ab4026a-dd51-4cc5-b610-4990cd6d1e97",
   "metadata": {
    "tags": []
   },
   "outputs": [],
   "source": [
    "import sys\n",
    "from brahma_analysis import *\n",
    "from scipy.interpolate import interp1d\n",
    "sys.path.append('/home/yja6qa/arepo_package/')\n",
    "\n",
    "import arepo_package\n",
    "import scipy.interpolate\n",
    "import h5py\n",
    "import os\n",
    "import numpy as np\n",
    "import plotting\n",
    "from sklearn.linear_model import LinearRegression\n",
    "\n",
    "%matplotlib inline\n",
    "\n",
    "h = 0.6774\n",
    "radiative_efficiency=0.2"
   ]
  },
  {
   "cell_type": "markdown",
   "id": "f6d3ad51-2c47-4195-a79c-86e991125437",
   "metadata": {},
   "source": [
    "# New method: Gravitatioanl potential gradient, calculating $j_{circ}$ at given radius"
   ]
  },
  {
   "cell_type": "markdown",
   "id": "8a645d60-122d-41de-919c-d7b31c08fb01",
   "metadata": {},
   "source": [
    "Note: Be careful with units, need to add in scale factor"
   ]
  },
  {
   "cell_type": "code",
   "execution_count": 52,
   "id": "71637bf6-6f76-4128-8687-2be71d6e3cf7",
   "metadata": {
    "tags": []
   },
   "outputs": [],
   "source": [
    "from rotate import calc_incl, trans, center\n",
    "\n",
    "TNGpath='/standard/torrey-group/IllustrisTNG/Runs/L75n1820TNG'\n",
    "basePath = TNGpath\n",
    "snap_num=99 # z=0\n",
    "subhalo_id = 0\n",
    "z = 0\n",
    "a = 1/(1+z)\n",
    "\n",
    "with h5py.File(TNGpath+\"/groups_0{}\".format(snap_num)+\"/fof_subhalo_tab_099.0.hdf5\", \"r\") as f:\n",
    "    header = f[\"Header\"]\n",
    "    # Box size needed to center coordinates\n",
    "    box_size = header.attrs[\"BoxSize\"]\n",
    "    \n",
    "# need to center coords on subhalo pos\n",
    "SubhaloCM_pos = il.groupcat.loadSubhalos(TNGpath,snap_num,fields='SubhaloPos')[subhalo_id]\n",
    "SubhaloCM_vel = il.groupcat.loadSubhalos(TNGpath,snap_num,fields='SubhaloVel')[subhalo_id]\n",
    "\n",
    "fields = ['Masses','Coordinates','Velocities','Potential']\n",
    "Star_Props = il.snapshot.loadSubhalo(TNGpath, snap_num, id=subhalo_id, partType=4, fields=fields)\n",
    "# Shouldn't need mass?\n",
    "star_coords, star_vel, star_mass, star_pot = Star_Props['Coordinates'], Star_Props['Velocities'], Star_Props['Masses'], Star_Props['Potential']\n",
    "\n",
    "star_coords = center(star_coords,SubhaloCM_pos,box_size)\n",
    "star_vel = star_vel - SubhaloCM_vel\n",
    "\n",
    "# Correcting units, scale factor = 1 for z = 0\n",
    "star_coords *= a/h # New units: kpc\n",
    "kpc2km = 3.0857e16 # Conversion rate from kpc to km\n",
    "star_coords *= kpc2km # New units: km\n",
    "star_vel *= np.sqrt(a) # New units: km/s\n",
    "star_pot /= a # New units: (km/s)^2\n",
    "\n",
    "ri   = 0 * kpc2km  # from 0\n",
    "ro   = 20 * kpc2km # to 20 kpc\n",
    "incl = calc_incl(star_coords, star_vel, star_mass, ri, ro) ## rotate based on stars\n",
    "\n",
    "star_coord_trans = trans(star_coords, incl)\n",
    "star_vel_trans = trans(star_vel, incl)\n"
   ]
  },
  {
   "cell_type": "markdown",
   "id": "50f5a514-6c57-437b-b869-3ff9e0bfcb0d",
   "metadata": {
    "tags": []
   },
   "source": [
    "## Next step: Sample stars at different radial bins and calculate potential gradient"
   ]
  },
  {
   "cell_type": "code",
   "execution_count": 82,
   "id": "28643b49-6e58-41b3-b57e-cc28eeaf15f9",
   "metadata": {
    "tags": []
   },
   "outputs": [],
   "source": [
    "height = 1 * kpc2km # kpc for height of disk\n",
    "ri   = 0 * kpc2km  # from 0\n",
    "ro   = 20 * kpc2km # to 20 kpcs\n",
    "nbins = 100 # 100 bins from 0 to 20 kpc gives gradient res of 1/5 kpc\n",
    "n = 50 # Number of stars to require and sample from\n",
    "\n",
    "bins = np.linspace(ri,ro,nbins)\n",
    "\n",
    "# Only stars within the height of the disk\n",
    "disk_mask = (star_coord_trans[:,2] > -height) & (star_coord_trans[:,2] < height)\n",
    "disk_coords = star_coord_trans[disk_mask]\n",
    "disk_pot = star_pot[disk_mask]\n",
    "\n",
    "# radial distance from subhalo center in the xy plane\n",
    "r = np.sqrt(star_coord_trans[:,0]**2 + star_coord_trans[:,1]**2)\n",
    "r_disk = r[disk_mask]    \n",
    "\n",
    "# Potentials at each radial bin\n",
    "potentials = []\n",
    "\n",
    "for i in range(len(bins)-1):\n",
    "    \n",
    "    # Mask of stars within the current radial bin\n",
    "    r_mask = (r_disk > bins[i]) & (r_disk < bins[i+1])\n",
    "    \n",
    "    # Coordinates, potentials of stars in current bin\n",
    "    r_bin = disk_coords[r_mask]\n",
    "    r_pot = disk_pot[r_mask]\n",
    "    \n",
    "    # Require at least n stars in the radial bin to consider the radial potential well-defined\n",
    "    if len(r_bin) < n:\n",
    "        \n",
    "        potentials.append(np.nan)\n",
    "    \n",
    "    # Otherwise, take the average of the potentials in the bin\n",
    "    else:\n",
    "        \n",
    "        # Sample n potentials in the current radial bin\n",
    "        # sample = np.random.choice(len(r_bin), size=n, replace=False)\n",
    "        \n",
    "        # Calculate mean potential\n",
    "        potential = np.mean(r_pot)\n",
    "\n",
    "        # Append to list\n",
    "        potentials.append(potential)"
   ]
  },
  {
   "cell_type": "code",
   "execution_count": 115,
   "id": "b630ecac-d56e-4080-a9e0-187dbc305f64",
   "metadata": {
    "tags": []
   },
   "outputs": [],
   "source": [
    "# Positions in the middle of the bins\n",
    "pos = np.array([np.mean([bins[n],bins[n+1]]) for n in range(0,len(bins)-1)])\n",
    "\n",
    "# Calculating the gradient based on positions and potentials\n",
    "grad = np.gradient(potentials,pos[1]-pos[0])\n",
    "\n",
    "# Interpolating the gradient function with scipy \n",
    "gradient_interp = interp1d(pos, grad, kind='linear', fill_value=\"extrapolate\")"
   ]
  },
  {
   "cell_type": "code",
   "execution_count": 116,
   "id": "04afbf4d-3bf7-47c5-b383-70bdc1ad7f8d",
   "metadata": {
    "tags": []
   },
   "outputs": [
    {
     "data": {
      "text/plain": [
       "[-6109959.0,\n",
       " -6103898.5,\n",
       " -6092309.0,\n",
       " -6076212.0,\n",
       " -6056530.0,\n",
       " -6033597.5,\n",
       " -6008640.0,\n",
       " -5981522.5,\n",
       " -5953110.0,\n",
       " -5924457.0,\n",
       " -5893900.5,\n",
       " -5861920.0,\n",
       " -5829744.5,\n",
       " -5800228.5,\n",
       " -5772546.0,\n",
       " -5746434.5,\n",
       " -5722874.0,\n",
       " -5701207.0,\n",
       " -5679414.5,\n",
       " -5659321.0,\n",
       " -5640378.0,\n",
       " -5624273.0,\n",
       " -5607495.5,\n",
       " -5593037.0,\n",
       " -5579819.5,\n",
       " -5567446.0,\n",
       " -5555360.5,\n",
       " -5544160.5,\n",
       " -5533470.5,\n",
       " -5523261.0,\n",
       " -5514360.0,\n",
       " -5505116.0,\n",
       " -5496146.5,\n",
       " -5487829.0,\n",
       " -5479519.5,\n",
       " -5471821.0,\n",
       " -5464268.0,\n",
       " -5456878.0,\n",
       " -5449810.5,\n",
       " -5442876.0,\n",
       " -5436488.0,\n",
       " -5430085.0,\n",
       " -5423419.0,\n",
       " -5417519.5,\n",
       " -5411208.5,\n",
       " -5405510.5,\n",
       " -5399886.0,\n",
       " -5394301.0,\n",
       " -5388696.0,\n",
       " -5383534.0,\n",
       " -5378289.0,\n",
       " -5373081.0,\n",
       " -5367354.5,\n",
       " -5362926.5,\n",
       " -5357889.5,\n",
       " -5353294.5,\n",
       " -5348166.5,\n",
       " -5343691.5,\n",
       " -5338922.5,\n",
       " -5334474.5,\n",
       " -5330269.5,\n",
       " -5325793.0,\n",
       " -5321276.5,\n",
       " -5317100.5,\n",
       " -5313053.5,\n",
       " -5308850.5,\n",
       " -5304862.5,\n",
       " -5300439.0,\n",
       " -5296717.0,\n",
       " -5292512.0,\n",
       " -5288391.0,\n",
       " -5284990.5,\n",
       " -5280713.0,\n",
       " -5277017.5,\n",
       " -5273444.5,\n",
       " -5269506.5,\n",
       " -5266051.0,\n",
       " -5262388.0,\n",
       " -5258972.5,\n",
       " -5255499.0,\n",
       " -5251269.5,\n",
       " -5247936.5,\n",
       " -5244657.5,\n",
       " -5241415.0,\n",
       " -5237865.0,\n",
       " -5234850.0,\n",
       " -5231528.0,\n",
       " -5227776.0,\n",
       " -5224450.0,\n",
       " -5221046.0,\n",
       " -5218167.0,\n",
       " -5215144.5,\n",
       " -5211565.5,\n",
       " -5208984.0,\n",
       " -5205164.0,\n",
       " -5202418.5,\n",
       " -5200029.5,\n",
       " -5195738.0,\n",
       " -5193571.5]"
      ]
     },
     "execution_count": 116,
     "metadata": {},
     "output_type": "execute_result"
    }
   ],
   "source": [
    "potentials"
   ]
  },
  {
   "cell_type": "code",
   "execution_count": 117,
   "id": "ff28796c-a3ef-4fc0-a9b3-2ce446450856",
   "metadata": {
    "tags": []
   },
   "outputs": [
    {
     "data": {
      "text/plain": [
       "array([5.2873580e-13, 1.4156837e-12, 2.2206982e-12, 2.8697871e-12,\n",
       "       3.4180538e-12, 3.8411947e-12, 4.1768681e-12, 4.4539893e-12,\n",
       "       4.5771499e-12, 4.7491173e-12, 5.0160115e-12, 5.1458694e-12,\n",
       "       4.9481951e-12, 4.5878175e-12, 4.3147469e-12, 3.9841268e-12,\n",
       "       3.6276390e-12, 3.4858301e-12, 3.3596216e-12, 3.1310670e-12,\n",
       "       2.8111545e-12, 2.6374627e-12, 2.5053991e-12, 2.2198560e-12,\n",
       "       2.0526209e-12, 1.9618246e-12, 1.8676998e-12, 1.7557685e-12,\n",
       "       1.6763217e-12, 1.5328284e-12, 1.4553869e-12, 1.4608812e-12,\n",
       "       1.3865678e-12, 1.3336301e-12, 1.2839810e-12, 1.2233030e-12,\n",
       "       1.1985586e-12, 1.1596173e-12, 1.1230822e-12, 1.0685804e-12,\n",
       "       1.0259495e-12, 1.0482475e-12, 1.0078624e-12, 9.7938834e-13,\n",
       "       9.6322635e-13, 9.0816303e-13, 8.9909943e-13, 8.9753536e-13,\n",
       "       8.6360709e-13, 8.3473197e-13, 8.3842156e-13, 8.7704204e-13,\n",
       "       8.1447929e-13, 7.5917538e-13, 7.7257021e-13, 7.7986922e-13,\n",
       "       7.7024417e-13, 7.4144922e-13, 7.3928363e-13, 6.9404589e-13,\n",
       "       6.9633183e-13, 7.2131689e-13, 6.9721415e-13, 6.5955618e-13,\n",
       "       6.6172182e-13, 6.5698949e-13, 6.7467548e-13, 6.5334001e-13,\n",
       "       6.3581437e-13, 6.6781763e-13, 6.0328977e-13, 6.1584239e-13,\n",
       "       6.3950397e-13, 5.8299698e-13, 6.0244756e-13, 5.9302303e-13,\n",
       "       5.7096564e-13, 5.6775732e-13, 5.5255773e-13, 6.1784762e-13,\n",
       "       6.0657832e-13, 5.3033993e-13, 5.2308104e-13, 5.4481761e-13,\n",
       "       5.2657011e-13, 5.0828254e-13, 5.6739634e-13, 5.6771721e-13,\n",
       "       5.3980458e-13, 5.0395126e-13, 4.7335166e-13, 5.2949772e-13,\n",
       "       4.9412574e-13, 5.1345603e-13, 5.2661022e-13, 4.1183159e-13,\n",
       "       5.3583424e-13, 5.1798778e-13, 1.7710082e-13], dtype=float32)"
      ]
     },
     "execution_count": 117,
     "metadata": {},
     "output_type": "execute_result"
    }
   ],
   "source": [
    "grad"
   ]
  },
  {
   "cell_type": "code",
   "execution_count": 118,
   "id": "36147c29-c4bf-47ee-9bda-4b8c4ac8a7b9",
   "metadata": {
    "tags": []
   },
   "outputs": [
    {
     "data": {
      "text/plain": [
       "<matplotlib.collections.PathCollection at 0x7f4906f520d0>"
      ]
     },
     "execution_count": 118,
     "metadata": {},
     "output_type": "execute_result"
    },
    {
     "data": {
      "image/png": "[encoded data removed]",
      "text/plain": [
       "<Figure size 640x480 with 1 Axes>"
      ]
     },
     "metadata": {},
     "output_type": "display_data"
    }
   ],
   "source": [
    "plt.scatter(pos,potentials)"
   ]
  },
  {
   "cell_type": "code",
   "execution_count": 119,
   "id": "d8873f7a-9c2d-4612-9c88-4bef13d9cb27",
   "metadata": {
    "tags": []
   },
   "outputs": [
    {
     "data": {
      "text/plain": [
       "<matplotlib.collections.PathCollection at 0x7f4906e320d0>"
      ]
     },
     "execution_count": 119,
     "metadata": {},
     "output_type": "execute_result"
    },
    {
     "data": {
      "image/png": "[encoded data removed]",
      "text/plain": [
       "<Figure size 640x480 with 1 Axes>"
      ]
     },
     "metadata": {},
     "output_type": "display_data"
    }
   ],
   "source": [
    "plt.scatter(pos,grad)"
   ]
  },
  {
   "cell_type": "markdown",
   "id": "2169511c-eda5-472b-8e75-fefd6b5613b9",
   "metadata": {},
   "source": [
    "# Next step: Calculate circular angular momentum from interpolated potential gradient"
   ]
  },
  {
   "cell_type": "code",
   "execution_count": 127,
   "id": "6e997aab-db96-443c-bfee-0ff46fa1cc02",
   "metadata": {
    "tags": []
   },
   "outputs": [],
   "source": [
    "# Need to check if this is correct: Calculating only based on x-y distance from subhalo center\n",
    "# If the star is in the disk, nearly all the angular momentum should be due to motion in the x-y plane\n",
    "grad_phi_interp = np.abs(gradient_interp(r))\n",
    "\n",
    "v_circ = np.sqrt(r * grad_phi_interp)"
   ]
  },
  {
   "cell_type": "code",
   "execution_count": 128,
   "id": "b3ba3f8e-107f-41b1-afc0-97b5feaa97cb",
   "metadata": {
    "tags": []
   },
   "outputs": [
    {
     "data": {
      "text/plain": [
       "array([7.93450966e+01, 2.17677823e+01, 6.34367188e+01, ...,\n",
       "       3.12505179e+05, 1.57096568e+05, 2.86057850e+05])"
      ]
     },
     "execution_count": 128,
     "metadata": {},
     "output_type": "execute_result"
    }
   ],
   "source": [
    "v_circ"
   ]
  },
  {
   "cell_type": "code",
   "execution_count": 129,
   "id": "db368432-0585-47de-a4d5-1e4ad476316b",
   "metadata": {
    "tags": []
   },
   "outputs": [
    {
     "data": {
      "text/plain": [
       "array([[  -12.637901,     8.943913,    11.446328],\n",
       "       [  -16.26518 ,    35.235065,    15.416778],\n",
       "       [   46.98367 ,   -21.21872 ,    36.969025],\n",
       "       ...,\n",
       "       [ -729.93835 ,  1077.7594  , -1231.7505  ],\n",
       "       [ -587.94763 ,   913.9474  , -1462.2476  ],\n",
       "       [ -751.9747  ,  1056.7695  , -1326.018   ]], dtype=float32)"
      ]
     },
     "execution_count": 129,
     "metadata": {},
     "output_type": "execute_result"
    }
   ],
   "source": [
    "star_vel_trans"
   ]
  },
  {
   "cell_type": "code",
   "execution_count": 134,
   "id": "fe65fb93-d948-4376-ba62-6528d9f6bfa9",
   "metadata": {
    "tags": []
   },
   "outputs": [],
   "source": [
    "j_circ = r * v_circ\n",
    "j_z = np.abs(np.cross(star_coord_trans,star_vel_trans)[:,2])"
   ]
  },
  {
   "cell_type": "code",
   "execution_count": 135,
   "id": "460bc6a4-3c67-45a5-9af8-2d213bc1ec65",
   "metadata": {
    "tags": []
   },
   "outputs": [
    {
     "data": {
      "text/plain": [
       "array([0.14451573, 0.29118248, 0.50613443, ..., 0.00136575, 0.00672513,\n",
       "       0.00233888])"
      ]
     },
     "execution_count": 135,
     "metadata": {},
     "output_type": "execute_result"
    }
   ],
   "source": [
    "ratio=j_z/j_circ\n",
    "ratio"
   ]
  },
  {
   "cell_type": "code",
   "execution_count": 136,
   "id": "be950a02-a9b3-4f3c-9a35-0288944bf391",
   "metadata": {
    "tags": []
   },
   "outputs": [
    {
     "data": {
      "text/plain": [
       "8.089394650427644e-09"
      ]
     },
     "execution_count": 136,
     "metadata": {},
     "output_type": "execute_result"
    }
   ],
   "source": [
    "np.min(ratio[~np.isnan(ratio)])"
   ]
  },
  {
   "cell_type": "code",
   "execution_count": 137,
   "id": "293e6413-7c95-43f9-acdf-b8099b24bfad",
   "metadata": {
    "tags": []
   },
   "outputs": [
    {
     "data": {
      "text/plain": [
       "342.72145314446146"
      ]
     },
     "execution_count": 137,
     "metadata": {},
     "output_type": "execute_result"
    }
   ],
   "source": [
    "np.max(ratio[~np.isnan(ratio)])"
   ]
  },
  {
   "cell_type": "code",
   "execution_count": 139,
   "id": "d396ecbe-0c09-4d27-94ec-47dd71a10b33",
   "metadata": {
    "tags": []
   },
   "outputs": [
    {
     "name": "stdout",
     "output_type": "stream",
     "text": [
      "512480 3987343\n"
     ]
    }
   ],
   "source": [
    "print(len(ratio[ratio > 0.7]),len(ratio))"
   ]
  },
  {
   "cell_type": "code",
   "execution_count": 140,
   "id": "b436cbb2-accb-4c12-91da-23e43b385948",
   "metadata": {
    "tags": []
   },
   "outputs": [
    {
     "name": "stdout",
     "output_type": "stream",
     "text": [
      "0.12852669058066987\n"
     ]
    }
   ],
   "source": [
    "print(len(ratio[ratio > 0.7])/len(ratio))"
   ]
  },
  {
   "cell_type": "markdown",
   "id": "1842cf50-a058-458a-8d00-f404a49885e7",
   "metadata": {},
   "source": [
    "This halo is calculated to have a ~13% disk component. This feels too small..."
   ]
  }
 ],
 "metadata": {
  "kernelspec": {
   "display_name": "Python 3 (ipykernel)",
   "language": "python",
   "name": "python3"
  },
  "language_info": {
   "codemirror_mode": {
    "name": "ipython",
    "version": 3
   },
   "file_extension": ".py",
   "mimetype": "text/x-python",
   "name": "python",
   "nbconvert_exporter": "python",
   "pygments_lexer": "ipython3",
   "version": "3.11.4"
  }
 },
 "nbformat": 4,
 "nbformat_minor": 5
}
