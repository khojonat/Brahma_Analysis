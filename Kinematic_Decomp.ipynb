{
 "cells": [
  {
   "cell_type": "markdown",
   "id": "efd98e35-711e-4250-9e5d-acb809b39514",
   "metadata": {},
   "source": [
    "# Redoing $\\sigma$ calculation for only the stars in the bulge"
   ]
  },
  {
   "cell_type": "code",
   "execution_count": 1,
   "id": "4ab4026a-dd51-4cc5-b610-4990cd6d1e97",
   "metadata": {
    "tags": []
   },
   "outputs": [],
   "source": [
    "import sys\n",
    "from brahma_analysis import *\n",
    "from scipy.interpolate import interp1d\n",
    "sys.path.append('/home/yja6qa/arepo_package/')\n",
    "\n",
    "import arepo_package\n",
    "import scipy.interpolate\n",
    "import h5py\n",
    "import os\n",
    "import numpy as np\n",
    "import plotting\n",
    "from sklearn.linear_model import LinearRegression\n",
    "\n",
    "%matplotlib inline\n",
    "\n",
    "h = 0.6774\n",
    "radiative_efficiency=0.2"
   ]
  },
  {
   "cell_type": "markdown",
   "id": "f6d3ad51-2c47-4195-a79c-86e991125437",
   "metadata": {},
   "source": [
    "# New method: Gravitatioanl potential gradient, calculating $j_{circ}$ at given radius"
   ]
  },
  {
   "cell_type": "code",
   "execution_count": 2,
   "id": "71637bf6-6f76-4128-8687-2be71d6e3cf7",
   "metadata": {
    "tags": []
   },
   "outputs": [],
   "source": [
    "from rotate import calc_incl, trans, center\n",
    "\n",
    "TNGpath='/standard/torrey-group/IllustrisTNG/Runs/L75n1820TNG'\n",
    "basePath = TNGpath\n",
    "snap_num=99\n",
    "subhalo_id = 100\n",
    "\n",
    "with h5py.File(TNGpath+\"/groups_0{}\".format(snap_num)+\"/fof_subhalo_tab_099.0.hdf5\", \"r\") as f:\n",
    "    header = f[\"Header\"]\n",
    "    # Read the BoxSize attribute\n",
    "    box_size = header.attrs[\"BoxSize\"]\n",
    "    \n",
    "# need to center coords on subhalo pos\n",
    "SubhaloCM_pos = il.groupcat.loadSubhalos(TNGpath,snap_num,fields='SubhaloPos')[subhalo_id]\n",
    "SubhaloCM_vel = il.groupcat.loadSubhalos(TNGpath,snap_num,fields='SubhaloVel')[subhalo_id]\n",
    "\n",
    "fields = ['Masses','Coordinates','Velocities','Potential']\n",
    "Star_Props = il.snapshot.loadSubhalo(TNGpath, snap_num, id=subhalo_id, partType=4, fields=fields)\n",
    "fields = ['Coordinates','Velocities']\n",
    "DM_Props = il.snapshot.loadSubhalo(TNGpath, snap_num, id=subhalo_id, partType=1, fields=fields)\n",
    "fields = ['Masses','Coordinates']\n",
    "\n",
    "star_coords, star_vel, star_mass = Star_Props['Coordinates'], Star_Props['Velocities'], Star_Props['Masses']\n",
    "dm_coords, dm_vel = DM_Props['Coordinates'], DM_Props['Velocities']\n",
    "\n",
    "star_coords, dm_coords = center(star_coords,SubhaloCM_pos,box_size), center(dm_coords,SubhaloCM_pos,box_size)\n",
    "star_vel, dm_vel = star_vel - SubhaloCM_vel, dm_vel - SubhaloCM_vel\n",
    "\n",
    "ri   = 0  # from 0\n",
    "ro   = 20 # to 20 kpc\n",
    "incl = calc_incl(star_coords, star_vel, star_mass, ri, ro) ## rotate based on stars\n",
    "pos  = trans(dm_coords, incl) ## perform rotation on DM positions\n",
    "vel  = trans(dm_vel, incl)    ## perform rotation on DM velocities\n",
    "\n",
    "star_coord_trans = trans(star_coords, incl)\n",
    "star_vel_trans = trans(star_vel, incl)\n"
   ]
  },
  {
   "cell_type": "markdown",
   "id": "50f5a514-6c57-437b-b869-3ff9e0bfcb0d",
   "metadata": {
    "tags": []
   },
   "source": [
    "## Next step: Sample stars at different radial bins and calculate potential gradient"
   ]
  },
  {
   "cell_type": "code",
   "execution_count": 3,
   "id": "28643b49-6e58-41b3-b57e-cc28eeaf15f9",
   "metadata": {
    "tags": []
   },
   "outputs": [],
   "source": [
    "star_pot = Star_Props['Potential']\n",
    "\n",
    "height = 1 # kpc for height of disk\n",
    "ri   = 0  # from 0\n",
    "ro   = 20 # to 20 kpcs\n",
    "nbins = 50 # 100 bins from 0 to 20 kpc gives gradient res of 1/5 kpc\n",
    "n = 50 # Number of stars to require and sample from\n",
    "\n",
    "bins = np.linspace(ri,ro,nbins)\n",
    "\n",
    "disk_mask = (star_coord_trans[:,2] > -height) & (star_coord_trans[:,2] < height)\n",
    "disk_coords = star_coord_trans[disk_mask]\n",
    "disk_pot = star_pot[disk_mask]\n",
    "\n",
    "# radial distance from subhalo center in the xy plane\n",
    "r = np.sqrt(star_coord_trans[:,0]**2 + star_coord_trans[:,1]**2)\n",
    "r_disk = r[disk_mask]    \n",
    "\n",
    "# Potentials at each radial bin\n",
    "potentials = []\n",
    "\n",
    "for i in range(len(bins)-1):\n",
    "    \n",
    "    # Mask of stars within the current radial bin\n",
    "    r_mask = (r_disk > bins[i]) & (r_disk < bins[i+1])\n",
    "    \n",
    "    # Coordinates, potentials of stars in current bin\n",
    "    r_bin = disk_coords[r_mask]\n",
    "    r_pot = disk_pot[r_mask]\n",
    "    \n",
    "    # Require at least n stars in the radial bin to consider the radial potential well-defined\n",
    "    if len(r_bin) < n:\n",
    "        \n",
    "        potentials.append(np.nan)\n",
    "    \n",
    "    # Otherwise, take the average of the potentials in the bin\n",
    "    else:\n",
    "        \n",
    "        # Sample n potentials in the current radial bin\n",
    "        # sample = np.random.choice(len(r_bin), size=n, replace=False)\n",
    "        \n",
    "        # Calculate mean potential\n",
    "        potential = np.mean(r_pot)\n",
    "\n",
    "        # Append to list\n",
    "        potentials.append(potential)"
   ]
  },
  {
   "cell_type": "code",
   "execution_count": 4,
   "id": "b630ecac-d56e-4080-a9e0-187dbc305f64",
   "metadata": {
    "tags": []
   },
   "outputs": [],
   "source": [
    "# Positions in the middle of the bins\n",
    "pos = np.array([np.mean([bins[n],bins[n+1]]) for n in range(0,len(bins)-1)])\n",
    "\n",
    "# Calculating the gradient based on positions and potentials\n",
    "grad = np.gradient(pos,potentials)\n",
    "\n",
    "# Interpolating the gradient function with scipy \n",
    "gradient_interp = interp1d(pos, grad, kind='linear', fill_value=\"extrapolate\")"
   ]
  },
  {
   "cell_type": "code",
   "execution_count": 51,
   "id": "d8873f7a-9c2d-4612-9c88-4bef13d9cb27",
   "metadata": {
    "tags": []
   },
   "outputs": [
    {
     "data": {
      "text/plain": [
       "<matplotlib.collections.PathCollection at 0x7fe633df9350>"
      ]
     },
     "execution_count": 51,
     "metadata": {},
     "output_type": "execute_result"
    },
    {
     "data": {
      "image/png": "[encoded data removed]",
      "text/plain": [
       "<Figure size 640x480 with 1 Axes>"
      ]
     },
     "metadata": {},
     "output_type": "display_data"
    }
   ],
   "source": [
    "plt.scatter(pos,grad)"
   ]
  },
  {
   "cell_type": "markdown",
   "id": "2169511c-eda5-472b-8e75-fefd6b5613b9",
   "metadata": {},
   "source": [
    "# Next step: Calculate circular angular momentum from interpolated potential gradient"
   ]
  },
  {
   "cell_type": "code",
   "execution_count": 9,
   "id": "6e997aab-db96-443c-bfee-0ff46fa1cc02",
   "metadata": {
    "tags": []
   },
   "outputs": [],
   "source": [
    "# Need to check if this is correct: Calculating only based on x-y distance from subhalo center\n",
    "# If the star is in the disk, nearly all the angular momentum should be due to motion in the x-y plane\n",
    "grad_phi_interp = gradient_interp(r)\n",
    "\n",
    "v_circ = np.sqrt(r * grad_phi_interp)"
   ]
  },
  {
   "cell_type": "code",
   "execution_count": 25,
   "id": "fe65fb93-d948-4376-ba62-6528d9f6bfa9",
   "metadata": {
    "tags": []
   },
   "outputs": [],
   "source": [
    "j_circ = r * v_circ\n",
    "j_z = np.cross(star_coord_trans,star_vel_trans)[:,2]"
   ]
  },
  {
   "cell_type": "code",
   "execution_count": 27,
   "id": "460bc6a4-3c67-45a5-9af8-2d213bc1ec65",
   "metadata": {
    "tags": []
   },
   "outputs": [
    {
     "data": {
      "text/plain": [
       "array([-7746.91129506,   439.19876237,   -23.40950098, ...,\n",
       "                  nan,            nan,            nan])"
      ]
     },
     "execution_count": 27,
     "metadata": {},
     "output_type": "execute_result"
    }
   ],
   "source": [
    "ratio=j_z/j_circ\n",
    "ratio"
   ]
  },
  {
   "cell_type": "code",
   "execution_count": 32,
   "id": "be950a02-a9b3-4f3c-9a35-0288944bf391",
   "metadata": {
    "tags": []
   },
   "outputs": [
    {
     "data": {
      "text/plain": [
       "-23465.26587146074"
      ]
     },
     "execution_count": 32,
     "metadata": {},
     "output_type": "execute_result"
    }
   ],
   "source": [
    "np.min(ratio[~np.isnan(ratio)])"
   ]
  },
  {
   "cell_type": "code",
   "execution_count": 33,
   "id": "293e6413-7c95-43f9-acdf-b8099b24bfad",
   "metadata": {
    "tags": []
   },
   "outputs": [
    {
     "data": {
      "text/plain": [
       "36843.648237636844"
      ]
     },
     "execution_count": 33,
     "metadata": {},
     "output_type": "execute_result"
    }
   ],
   "source": [
    "np.max(ratio[~np.isnan(ratio)])"
   ]
  },
  {
   "cell_type": "markdown",
   "id": "f6a84543-e6f5-45d3-bb1b-81a6dc2d95a9",
   "metadata": {},
   "source": [
    "This is not correct..."
   ]
  },
  {
   "cell_type": "code",
   "execution_count": null,
   "id": "7bc94812-3cad-439c-a030-e4450293e157",
   "metadata": {},
   "outputs": [],
   "source": []
  }
 ],
 "metadata": {
  "kernelspec": {
   "display_name": "Python 3 (ipykernel)",
   "language": "python",
   "name": "python3"
  },
  "language_info": {
   "codemirror_mode": {
    "name": "ipython",
    "version": 3
   },
   "file_extension": ".py",
   "mimetype": "text/x-python",
   "name": "python",
   "nbconvert_exporter": "python",
   "pygments_lexer": "ipython3",
   "version": "3.11.4"
  }
 },
 "nbformat": 4,
 "nbformat_minor": 5
}
