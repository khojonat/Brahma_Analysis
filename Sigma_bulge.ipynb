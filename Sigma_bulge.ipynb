{
 "cells": [
  {
   "cell_type": "markdown",
   "id": "efd98e35-711e-4250-9e5d-acb809b39514",
   "metadata": {},
   "source": [
    "# Redoing $\\sigma$ calculation for only the stars in the bulge"
   ]
  },
  {
   "cell_type": "code",
   "execution_count": 1,
   "id": "4ab4026a-dd51-4cc5-b610-4990cd6d1e97",
   "metadata": {
    "tags": []
   },
   "outputs": [],
   "source": [
    "import sys\n",
    "sys.path.append('/home/yja6qa/arepo_package/')\n",
    "\n",
    "import arepo_package\n",
    "import scipy.interpolate\n",
    "import h5py\n",
    "import os\n",
    "import numpy as np\n",
    "import plotting\n",
    "from brahma_analysis import *\n",
    "from sklearn.linear_model import LinearRegression\n",
    "\n",
    "%matplotlib inline\n",
    "\n",
    "h = 0.6774\n",
    "radiative_efficiency=0.2"
   ]
  },
  {
   "cell_type": "code",
   "execution_count": null,
   "id": "f0039eee-f00c-4b18-9d87-81acf4e849ca",
   "metadata": {
    "tags": []
   },
   "outputs": [],
   "source": [
    "path_to_output='/standard/torrey-group/BRAHMA/L12p5n512' # this is the folder containing the simulation run\n",
    "run='/AREPO/' # name of the simulation runs\n",
    "output='output_ratio10_SFMFGM5_seed5.00_bFOF/' # Name of the box we want to load data from\n",
    "basePath = path_to_output+run+output # Combining paths to read data in \n",
    "\n",
    "file_format='fof_subfind'\n",
    "\n",
    "desired_redshift=0\n",
    "h = 0.6774 # hubble constant \n",
    "\n",
    "output_redshift,output_snapshot=arepo_package.desired_redshift_to_output_redshift(basePath,\n",
    "                                                                    desired_redshift,list_all=False,file_format=file_format)"
   ]
  },
  {
   "cell_type": "code",
   "execution_count": null,
   "id": "e7779e84",
   "metadata": {
    "tags": []
   },
   "outputs": [],
   "source": [
    "spin = arepo_package.get_subhalo_property(basePath,'SubhaloSpin',desired_redshift,postprocessed=1)\n",
    "Pos = arepo_package.get_subhalo_property(basePath,'SubhaloPos',desired_redshift,postprocessed=1)\n",
    "Vel = arepo_package.get_subhalo_property(basePath,'SubhaloVel',desired_redshift,postprocessed=1)\n",
    "\n",
    "requested_property1=il.snapshot.loadSubset_groupordered(basePath,output_snapshot,partType=4,fields='Potential')\n",
    "requested_property2=il.snapshot.loadSubset_groupordered(basePath,output_snapshot,partType=4,fields='Velocities')\n",
    "requested_property3=il.snapshot.loadSubset_groupordered(basePath,output_snapshot,partType=4,fields='Coordinates')\n",
    "requested_property4=il.snapshot.loadSubset_groupordered(basePath,output_snapshot,partType=4,fields='Masses')\n",
    "\n",
    "print(spin[0].shape,requested_property1.shape,requested_property2.shape,requested_property3.shape)"
   ]
  },
  {
   "cell_type": "code",
   "execution_count": null,
   "id": "e7d7a5fe-6a23-4099-ae18-937e6218df09",
   "metadata": {
    "tags": []
   },
   "outputs": [],
   "source": [
    "SubhaloLenType,o = arepo_package.get_subhalo_property(basePath,'SubhaloLenType',desired_redshift,postprocessed=1)\n",
    "SubhaloBHLen = SubhaloLenType[:,5]\n",
    "SubhaloStarsLen = SubhaloLenType[:,4]\n",
    "SubhaloIndices = np.arange(0,len(SubhaloBHLen))\n",
    "mask1 = np.logical_and(SubhaloBHLen>0,SubhaloStarsLen>10)  # Only subhalos with a BH and with stars\n",
    "mask2 = SubhaloStarsLen>10                # Only subhalos with stars; want another array of values for a Mstar-msigma plot\n",
    "\n",
    "SubhaloIndicesWithBH = SubhaloIndices[mask1] # Return these so we can cross-reference which subhalos to plot\n",
    "SubhaloIndicesWithStars = SubhaloIndices[mask2]\n",
    "desired_indices = range(len(SubhaloIndicesWithStars))"
   ]
  },
  {
   "cell_type": "code",
   "execution_count": null,
   "id": "2aa94c34-53c4-4d92-a5a9-f29f8cf0c11e",
   "metadata": {
    "tags": []
   },
   "outputs": [],
   "source": [
    "for i in desired_indices:\n",
    "    ActualSubhaloIndex = SubhaloIndicesWithStars[i]\n",
    "\n",
    "    Pot_subhalo,Pot_group,output_redshift=get_particle_property_within_postprocessed_groups_adj(basePath,'Potential',4,output_redshift,ActualSubhaloIndex,requested_property1,store_all_offsets=1,group_type='subhalo')\n",
    "    Vel_subhalo,Vel_group,output_redshift=get_particle_property_within_postprocessed_groups_adj(basePath,'Velocities',4,output_redshift,ActualSubhaloIndex,requested_property2,store_all_offsets=1,group_type='subhalo')\n",
    "    Pos_subhalo,Pos_group,output_redshift=get_particle_property_within_postprocessed_groups_adj(basePath,'Coordinates',4,output_redshift,ActualSubhaloIndex,requested_property3,store_all_offsets=1,group_type='subhalo')\n",
    "    Mstar_subhalo,Mstar_group,output_redshift=get_particle_property_within_postprocessed_groups_adj(basePath,'Masses',4,output_redshift,ActualSubhaloIndex,requested_property4,store_all_offsets=1,group_type='subhalo')\n",
    "    \n",
    "    # From assuming a circular orbit for a star with the given grav. potential energy\n",
    "    maxv = np.sqrt(-Pot_subhalo/Mstar_subhalo)\n",
    "\n",
    "    # Subtract off subhalo velocity and position\n",
    "    Vel_subhalo -= Vel[0][ActualSubhaloIndex]\n",
    "    Pos_subhalo -= Pos[0][ActualSubhaloIndex]\n",
    "    \n",
    "    j = np.linalg.norm(np.cross(Vel_subhalo,Pos_subhalo))\n",
    "    jmax = np.linalg.norm(Pos_subhalo)*maxv\n",
    "    ratio = j/jmax\n",
    "    \n",
    "    # Stars with ratio > 0.7 are considered part of the disk\n",
    "    print(len(ratio[ratio>0.7]))"
   ]
  },
  {
   "cell_type": "markdown",
   "id": "d52d1c59-2b9a-440c-9844-6a4248c4a229",
   "metadata": {},
   "source": []
  },
  {
   "cell_type": "code",
   "execution_count": null,
   "id": "05baf415-8ad5-4aa9-8f00-8d5eca8e32e6",
   "metadata": {
    "tags": []
   },
   "outputs": [],
   "source": [
    "j = np.linalg.norm(np.cross(Vel_subhalo,Pos_subhalo))\n",
    "jmax = np.linalg.norm(Pos_subhalo)*maxv\n",
    "ratio = j/jmax"
   ]
  },
  {
   "cell_type": "code",
   "execution_count": null,
   "id": "53153733-fd4f-4d2d-9969-af50838b82b1",
   "metadata": {
    "tags": []
   },
   "outputs": [],
   "source": [
    "np.max(ratio)"
   ]
  },
  {
   "cell_type": "code",
   "execution_count": null,
   "id": "4cad5e69-8f9d-456a-b6a9-cf97c72b2085",
   "metadata": {
    "tags": []
   },
   "outputs": [],
   "source": [
    "np.max(ratio)"
   ]
  },
  {
   "cell_type": "markdown",
   "id": "2fe65bd3-96f2-465e-bc39-88294d7b501d",
   "metadata": {},
   "source": [
    "How to calculate the max ang momentum from the potentials?"
   ]
  },
  {
   "cell_type": "markdown",
   "id": "42ec9bf8-83ae-4d6d-abcf-42e78e8ece7a",
   "metadata": {},
   "source": [
    "Max ang momentum: Assume circular orbit for a star of the given radius and grav. potential energy ($\\Phi$). Take centripetal force needed and equate with grav. force (grav. energy divided by r). Equation for max v: $\\sqrt{\\Phi/m}$"
   ]
  },
  {
   "cell_type": "markdown",
   "id": "2ddaf633-379e-44c1-bec3-3e7f4173cef9",
   "metadata": {},
   "source": []
  },
  {
   "cell_type": "code",
   "execution_count": 10,
   "id": "67c5edbc-e0ac-4996-abc0-a918de02686d",
   "metadata": {
    "tags": []
   },
   "outputs": [
    {
     "data": {
      "text/plain": [
       "0"
      ]
     },
     "execution_count": 10,
     "metadata": {},
     "output_type": "execute_result"
    }
   ],
   "source": [
    "disk_Stars=ReadBrahmaData('Brahma_Data/SM5_z0_N_diskstars')\n",
    "np.count_nonzero(disk_Stars[0])"
   ]
  }
 ],
 "metadata": {
  "kernelspec": {
   "display_name": "Python 3 (ipykernel)",
   "language": "python",
   "name": "python3"
  },
  "language_info": {
   "codemirror_mode": {
    "name": "ipython",
    "version": 3
   },
   "file_extension": ".py",
   "mimetype": "text/x-python",
   "name": "python",
   "nbconvert_exporter": "python",
   "pygments_lexer": "ipython3",
   "version": "3.11.4"
  }
 },
 "nbformat": 4,
 "nbformat_minor": 5
}
